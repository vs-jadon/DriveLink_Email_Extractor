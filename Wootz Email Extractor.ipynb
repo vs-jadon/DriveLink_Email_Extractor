{
 "cells": [
  {
   "cell_type": "markdown",
   "id": "91196371",
   "metadata": {},
   "source": [
    "# Problem\n"
   ]
  },
  {
   "cell_type": "markdown",
   "id": "47caaa0c",
   "metadata": {},
   "source": [
    "An Excel sheet contains a list of job applications. The second column includes the CVs of applicants. The task is to extract the email IDs from each CV and populate them in the third column of the sheet."
   ]
  },
  {
   "cell_type": "markdown",
   "id": "f6a3bcdb",
   "metadata": {},
   "source": [
    "Assumptions: 1.CVs are public as Google Drive links 2.Document format is pdf or docx 3. Supports RFC5322 format mail ids only.\n"
   ]
  },
  {
   "cell_type": "code",
   "execution_count": 1,
   "id": "bd9a5ab4",
   "metadata": {
    "scrolled": true
   },
   "outputs": [],
   "source": [
    "import pandas as pd\n",
    "import requests\n",
    "import re\n",
    "from io import BytesIO\n",
    "import fitz  # PyMuPDF (for PDFs)\n",
    "from docx import Document  # For DOCX files"
   ]
  },
  {
   "cell_type": "code",
   "execution_count": 2,
   "id": "31e773b2",
   "metadata": {},
   "outputs": [],
   "source": [
    "file_path = \"D:\\Programming\\Wootz_Assignment\\Applications 2.xlsx\"\n",
    "df = pd.read_excel(file_path)"
   ]
  },
  {
   "cell_type": "code",
   "execution_count": 3,
   "id": "523aefab",
   "metadata": {},
   "outputs": [],
   "source": [
    "# Function to convert Google Drive view link to a downloadable link\n",
    "def convert_to_downloadable_link(view_link):\n",
    "    try:\n",
    "        # Check if the view_link is a valid string\n",
    "        if isinstance(view_link, str) and 'drive.google.com' in view_link:\n",
    "            file_id = view_link.split('id=')[-1]  # Extract the file ID from the URL\n",
    "            return f\"https://drive.google.com/uc?id={file_id}\"\n",
    "        elif isinstance(view_link, str):\n",
    "            return view_link  # Return as is if it's already downloadable\n",
    "        else:\n",
    "            return \"Document not found\"  # Handle missing or invalid entries\n",
    "        \n",
    "    except Exception as e:\n",
    "        print(f\"Error processing link {view_link}: {e}\")\n",
    "        return \"Processing Error\""
   ]
  },
  {
   "cell_type": "code",
   "execution_count": 4,
   "id": "ad53071f",
   "metadata": {},
   "outputs": [],
   "source": [
    "# Function to check the file type by inspecting its content\n",
    "\n",
    "def get_file_type(downloadable_link):\n",
    "    try:\n",
    "        response = requests.get(downloadable_link, stream=True)\n",
    "        response.raise_for_status()  # Ensure the request was successful\n",
    "        \n",
    "      # Read the first 10 bytes from the file (to check its file type)\n",
    "        file_header = response.content[:10]\n",
    "        \n",
    "        # Check for PDF magic byte(%PDF)\n",
    "        if file_header[:5] == b'%PDF-':\n",
    "            return 'PDF'\n",
    "        \n",
    "        # Check for DOCX magic bytes (part of the .docx ZIP format signature)\n",
    "        elif file_header[:2] == b'PK': \n",
    "            return 'DOCX'\n",
    "        \n",
    "        else:\n",
    "            print(\"Unsupported file type (magic bytes don't match).\")\n",
    "            return 'Unsupported'\n",
    "    \n",
    "    except Exception as e:\n",
    "        print(f\"Error processing {downloadable_link}: {e}\")\n",
    "        return 'Error'"
   ]
  },
  {
   "cell_type": "code",
   "execution_count": 5,
   "id": "bbe5dc8f",
   "metadata": {},
   "outputs": [],
   "source": [
    "# Function to extract email from a PDF\n",
    "def extract_email_from_pdf(pdf_url):\n",
    "    try:\n",
    "        # Download the PDF file\n",
    "        response = requests.get(pdf_url)\n",
    "        response.raise_for_status()\n",
    "        \n",
    "        # Read the PDF content\n",
    "        pdf_data = BytesIO(response.content)\n",
    "        document = fitz.open(stream=pdf_data, filetype=\"pdf\")\n",
    "        text = \"\"\n",
    "        \n",
    "        # Extract text from each page of the PDF\n",
    "        for page in document:\n",
    "            text += page.get_text()\n",
    "\n",
    "        # Find email addresses using regex\n",
    "        emails = re.findall(r\"[a-zA-Z0-9._%+-]+@[a-zA-Z0-9.-]+\\.[a-zAZH]{2,}\", text)\n",
    "        return emails[0] if emails else \"N/A\"\n",
    "    except Exception as e:\n",
    "        print(f\"Error processing PDF {pdf_url}: {e}\")\n",
    "        return \"Processing Error\""
   ]
  },
  {
   "cell_type": "code",
   "execution_count": 6,
   "id": "01f7cf3c",
   "metadata": {},
   "outputs": [],
   "source": [
    "# Function to extract email from a DOCX file\n",
    "def extract_email_from_docx(docx_url):\n",
    "    try:\n",
    "        # Download the DOCX file\n",
    "        response = requests.get(docx_url)\n",
    "        response.raise_for_status()\n",
    "        \n",
    "        # Read the DOCX content\n",
    "        docx_data = BytesIO(response.content)\n",
    "        document = Document(docx_data)\n",
    "        text = \"\"\n",
    "        \n",
    "        # Extract text from the DOCX\n",
    "        for paragraph in document.paragraphs:\n",
    "            text += paragraph.text + \"\\n\"\n",
    "\n",
    "        # Find email addresses using regex\n",
    "        emails = re.findall(r\"[a-zA-Z0-9._%+-]+@[a-zA-Z0-9.-]+\\.[a-zA-Z]{2,}\", text)\n",
    "        return emails[0] if emails else \"N/A\"\n",
    "    except Exception as e:\n",
    "        print(f\"Error processing DOCX {docx_url}: {e}\")\n",
    "        return \"Processing Error\"\n"
   ]
  },
  {
   "cell_type": "code",
   "execution_count": 7,
   "id": "3bb4c2fd",
   "metadata": {},
   "outputs": [],
   "source": [
    "# Function to extract email based on file type (PDF or DOCX)\n",
    "def extract_email_from_file(url):\n",
    "    # Convert the URL to a downloadable link\n",
    "    downloadable_link = convert_to_downloadable_link(url)\n",
    "    \n",
    "    # Identify file type by reading first few bytes\n",
    "    file_type = get_file_type(downloadable_link)\n",
    "    \n",
    "    # If it's a PDF, extract the email from the PDF file\n",
    "    if file_type == 'PDF':\n",
    "        return extract_email_from_pdf(downloadable_link)\n",
    "    # If it's a DOCX, extract the email from the DOCX file\n",
    "    elif file_type == 'DOCX':\n",
    "        return extract_email_from_docx(downloadable_link)\n",
    "    # If the file type is unsupported or missing, return an appropriate message\n",
    "    else:\n",
    "        return f\"Unsupported/Missing file\""
   ]
  },
  {
   "cell_type": "code",
   "execution_count": 8,
   "id": "907addff",
   "metadata": {
    "scrolled": true
   },
   "outputs": [
    {
     "name": "stdout",
     "output_type": "stream",
     "text": [
      "Error processing Document not found: Invalid URL 'Document not found': No scheme supplied. Perhaps you meant https://Document not found?\n"
     ]
    }
   ],
   "source": [
    "# Loop through the rows in column B (second column) to extract email IDs\n",
    "df['Email ID'] = df['CV'][97:99].apply(extract_email_from_file)"
   ]
  },
  {
   "cell_type": "code",
   "execution_count": 10,
   "id": "1b588217",
   "metadata": {},
   "outputs": [],
   "source": [
    "# Save the updates back to the same file\n",
    "with pd.ExcelWriter(file_path, engine='openpyxl', mode='a', if_sheet_exists='replace') as writer:\n",
    "    df.to_excel(writer, index=False, sheet_name='Sheet1')\n",
    "\n",
    "    print(\"Excel file updated with extracted emails.\")"
   ]
  }
 ],
 "metadata": {
  "kernelspec": {
   "display_name": "Python 3 (ipykernel)",
   "language": "python",
   "name": "python3"
  },
  "language_info": {
   "codemirror_mode": {
    "name": "ipython",
    "version": 3
   },
   "file_extension": ".py",
   "mimetype": "text/x-python",
   "name": "python",
   "nbconvert_exporter": "python",
   "pygments_lexer": "ipython3",
   "version": "3.11.0"
  }
 },
 "nbformat": 4,
 "nbformat_minor": 5
}
